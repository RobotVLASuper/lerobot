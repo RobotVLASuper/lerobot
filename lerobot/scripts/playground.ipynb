{
 "cells": [
  {
   "cell_type": "code",
   "execution_count": 1,
   "metadata": {},
   "outputs": [
    {
     "data": {
      "text/plain": [
       "5"
      ]
     },
     "execution_count": 1,
     "metadata": {},
     "output_type": "execute_result"
    }
   ],
   "source": [
    "5"
   ]
  },
  {
   "cell_type": "code",
   "execution_count": 105,
   "metadata": {},
   "outputs": [],
   "source": [
    "from datasets import load_dataset\n",
    "\n",
    "# Load a remote JSON file\n",
    "dataset = load_dataset(\n",
    "    \"json\",\n",
    "    data_files=\"https://huggingface.co/datasets/lerobot/aloha_static_ziploc_slide/resolve/main/meta/info.json\",\n",
    "    split=\"train\",\n",
    ")[0]"
   ]
  },
  {
   "cell_type": "code",
   "execution_count": 18,
   "metadata": {},
   "outputs": [
    {
     "data": {
      "text/plain": [
       "('data/chunk-{episode_chunk:03d}/episode_{episode_index:06d}.parquet',\n",
       " 56,\n",
       " 'videos/chunk-{episode_chunk:03d}/{video_key}/episode_{episode_index:06d}.mp4',\n",
       " ['observation.images.cam_high',\n",
       "  'observation.images.cam_left_wrist',\n",
       "  'observation.images.cam_low',\n",
       "  'observation.images.cam_right_wrist'])"
      ]
     },
     "execution_count": 18,
     "metadata": {},
     "output_type": "execute_result"
    }
   ],
   "source": [
    "dataset[\"data_path\"], dataset[\"total_episodes\"], dataset[\"videos\"][\"videos_path\"], dataset[\"video_keys\"]"
   ]
  },
  {
   "cell_type": "code",
   "execution_count": 19,
   "metadata": {},
   "outputs": [],
   "source": [
    "# \"total_chunks\": 1,\n",
    "# \"chunks_size\": 1000,\n",
    "\n",
    "# use this to calculate the episide"
   ]
  },
  {
   "cell_type": "code",
   "execution_count": 32,
   "metadata": {},
   "outputs": [],
   "source": [
    "dataset2 = load_dataset(\n",
    "    \"parquet\",\n",
    "    data_files=\"https://huggingface.co/datasets/lerobot/aloha_static_ziploc_slide/resolve/main/data/chunk-000/episode_000003.parquet\",\n",
    "    split=\"train\",\n",
    ")"
   ]
  },
  {
   "cell_type": "code",
   "execution_count": 33,
   "metadata": {},
   "outputs": [
    {
     "data": {
      "text/plain": [
       "Dataset({\n",
       "    features: ['observation.state', 'action', 'episode_index', 'frame_index', 'timestamp', 'next.done', 'index', 'task_index'],\n",
       "    num_rows: 300\n",
       "})"
      ]
     },
     "execution_count": 33,
     "metadata": {},
     "output_type": "execute_result"
    }
   ],
   "source": [
    "dataset2"
   ]
  },
  {
   "cell_type": "code",
   "execution_count": 29,
   "metadata": {},
   "outputs": [],
   "source": [
    "dataset2 = load_dataset(\n",
    "    \"parquet\",\n",
    "    data_files=\"https://huggingface.co/datasets/lerobot/aloha_static_ziploc_slide/resolve/main/data/chunk-000/episode_000003.parquet\",\n",
    "    split=\"train\",\n",
    ")[1]"
   ]
  },
  {
   "cell_type": "code",
   "execution_count": 31,
   "metadata": {},
   "outputs": [
    {
     "data": {
      "text/plain": [
       "(14, 14, 0.019999999552965164)"
      ]
     },
     "execution_count": 31,
     "metadata": {},
     "output_type": "execute_result"
    }
   ],
   "source": [
    "len(dataset2[\"observation.state\"]), len(dataset2[\"action\"]), dataset2[\"timestamp\"]\n",
    "# actually I'd need all 300 of them dawg"
   ]
  },
  {
   "cell_type": "code",
   "execution_count": 61,
   "metadata": {},
   "outputs": [],
   "source": [
    "import numpy as np"
   ]
  },
  {
   "cell_type": "code",
   "execution_count": 73,
   "metadata": {},
   "outputs": [],
   "source": [
    "columns = [\"timestamp\", \"observation.state\", \"action\"]\n",
    "d = dataset2.select_columns(columns).with_format(\"numpy\")\n",
    "data = d.to_pandas()"
   ]
  },
  {
   "cell_type": "code",
   "execution_count": 82,
   "metadata": {},
   "outputs": [],
   "source": [
    "rows = np.hstack(\n",
    "    (np.expand_dims(data[\"timestamp\"], axis=1), *[np.vstack(data[col]) for col in columns[1:]])\n",
    ").tolist()"
   ]
  },
  {
   "cell_type": "code",
   "execution_count": null,
   "metadata": {},
   "outputs": [],
   "source": []
  },
  {
   "cell_type": "code",
   "execution_count": null,
   "metadata": {},
   "outputs": [],
   "source": []
  },
  {
   "cell_type": "code",
   "execution_count": 1,
   "metadata": {},
   "outputs": [
    {
     "name": "stderr",
     "output_type": "stream",
     "text": [
      "/opt/miniconda3/envs/lerobot/lib/python3.10/site-packages/tqdm/auto.py:21: TqdmWarning: IProgress not found. Please update jupyter and ipywidgets. See https://ipywidgets.readthedocs.io/en/stable/user_install.html\n",
      "  from .autonotebook import tqdm as notebook_tqdm\n"
     ]
    }
   ],
   "source": [
    "from lerobot.common.datasets.lerobot_dataset import LeRobotDataset"
   ]
  },
  {
   "cell_type": "code",
   "execution_count": 4,
   "metadata": {},
   "outputs": [
    {
     "name": "stderr",
     "output_type": "stream",
     "text": [
      "Fetching 4 files: 100%|██████████| 4/4 [00:00<00:00, 1168.00it/s]\n",
      "Fetching 15 files: 100%|██████████| 15/15 [00:00<00:00, 3548.68it/s]\n"
     ]
    }
   ],
   "source": [
    "dataset = LeRobotDataset(\"cadene/so100_5_lego_test\")"
   ]
  },
  {
   "cell_type": "code",
   "execution_count": 13,
   "metadata": {},
   "outputs": [
    {
     "data": {
      "text/plain": [
       "'v2.0'"
      ]
     },
     "execution_count": 13,
     "metadata": {},
     "output_type": "execute_result"
    }
   ],
   "source": [
    "dataset.meta._version"
   ]
  },
  {
   "cell_type": "code",
   "execution_count": 6,
   "metadata": {},
   "outputs": [
    {
     "data": {
      "text/plain": [
       "LeRobotDatasetMetadata({\n",
       "    Repository ID: 'cadene/so100_5_lego_test',\n",
       "    Total episodes: '3',\n",
       "    Total frames: '2830',\n",
       "    Features: '['action', 'observation.state', 'observation.images.laptop', 'observation.images.phone', 'timestamp', 'frame_index', 'episode_index', 'index', 'task_index']',\n",
       "})',"
      ]
     },
     "execution_count": 6,
     "metadata": {},
     "output_type": "execute_result"
    }
   ],
   "source": [
    "dataset.meta"
   ]
  },
  {
   "cell_type": "code",
   "execution_count": null,
   "metadata": {},
   "outputs": [],
   "source": []
  },
  {
   "cell_type": "code",
   "execution_count": 99,
   "metadata": {},
   "outputs": [
    {
     "data": {
      "text/plain": [
       "Dataset({\n",
       "    features: ['episode_index', 'tasks', 'length'],\n",
       "    num_rows: 56\n",
       "})"
      ]
     },
     "execution_count": 99,
     "metadata": {},
     "output_type": "execute_result"
    }
   ],
   "source": [
    "dataset"
   ]
  },
  {
   "cell_type": "code",
   "execution_count": 100,
   "metadata": {},
   "outputs": [
    {
     "name": "stderr",
     "output_type": "stream",
     "text": [
      "Filter: 100%|██████████| 56/56 [00:00<00:00, 3924.82 examples/s]\n"
     ]
    }
   ],
   "source": []
  },
  {
   "cell_type": "code",
   "execution_count": 101,
   "metadata": {},
   "outputs": [
    {
     "data": {
      "text/plain": [
       "['Slide open the ziploc bag.']"
      ]
     },
     "execution_count": 101,
     "metadata": {},
     "output_type": "execute_result"
    }
   ],
   "source": [
    "tasks"
   ]
  },
  {
   "cell_type": "code",
   "execution_count": 108,
   "metadata": {},
   "outputs": [
    {
     "ename": "KeyError",
     "evalue": "'num_episodes'",
     "output_type": "error",
     "traceback": [
      "\u001b[0;31m---------------------------------------------------------------------------\u001b[0m",
      "\u001b[0;31mKeyError\u001b[0m                                  Traceback (most recent call last)",
      "Cell \u001b[0;32mIn[108], line 1\u001b[0m\n\u001b[0;32m----> 1\u001b[0m \u001b[43mdataset\u001b[49m\u001b[43m[\u001b[49m\u001b[38;5;124;43m\"\u001b[39;49m\u001b[38;5;124;43mnum_episodes\u001b[39;49m\u001b[38;5;124;43m\"\u001b[39;49m\u001b[43m]\u001b[49m\n\u001b[1;32m      3\u001b[0m             \u001b[38;5;66;03m# \"repo_id\": f\"{dataset_namespace}/{dataset_name}\",\u001b[39;00m\n\u001b[1;32m      4\u001b[0m             \u001b[38;5;66;03m# \"num_samples\": dataset.num_samples,\u001b[39;00m\n\u001b[1;32m      5\u001b[0m             \u001b[38;5;66;03m# \"num_episodes\": dataset.num_episodes,\u001b[39;00m\n\u001b[1;32m      6\u001b[0m             \u001b[38;5;66;03m# \"fps\": dataset.fps,\u001b[39;00m\n",
      "\u001b[0;31mKeyError\u001b[0m: 'num_episodes'"
     ]
    }
   ],
   "source": [
    "dataset[\"num_episodes\"]\n",
    "\n",
    "# \"repo_id\": f\"{dataset_namespace}/{dataset_name}\",\n",
    "# \"num_samples\": dataset.num_samples,\n",
    "# \"num_episodes\": dataset.num_episodes,\n",
    "# \"fps\": dataset.fps,"
   ]
  },
  {
   "cell_type": "code",
   "execution_count": 112,
   "metadata": {},
   "outputs": [
    {
     "name": "stderr",
     "output_type": "stream",
     "text": [
      "Fetching 4 files: 100%|██████████| 4/4 [00:00<00:00, 1555.17it/s]\n",
      "Fetching 286 files: 100%|██████████| 286/286 [00:00<00:00, 4622.52it/s]\n"
     ]
    }
   ],
   "source": [
    "dataset2 = LeRobotDataset(\"lerobot/aloha_static_ziploc_slide\")"
   ]
  },
  {
   "cell_type": "code",
   "execution_count": 111,
   "metadata": {},
   "outputs": [
    {
     "data": {
      "text/plain": [
       "16800"
      ]
     },
     "execution_count": 111,
     "metadata": {},
     "output_type": "execute_result"
    }
   ],
   "source": [
    "len(dataset2.hf_dataset)"
   ]
  },
  {
   "cell_type": "code",
   "execution_count": 114,
   "metadata": {},
   "outputs": [
    {
     "data": {
      "text/plain": [
       "'v2.0'"
      ]
     },
     "execution_count": 114,
     "metadata": {},
     "output_type": "execute_result"
    }
   ],
   "source": [
    "dataset2._version"
   ]
  },
  {
   "cell_type": "code",
   "execution_count": null,
   "metadata": {},
   "outputs": [],
   "source": []
  }
 ],
 "metadata": {
  "kernelspec": {
   "display_name": "lerobot",
   "language": "python",
   "name": "python3"
  },
  "language_info": {
   "codemirror_mode": {
    "name": "ipython",
    "version": 3
   },
   "file_extension": ".py",
   "mimetype": "text/x-python",
   "name": "python",
   "nbconvert_exporter": "python",
   "pygments_lexer": "ipython3",
   "version": "3.10.14"
  }
 },
 "nbformat": 4,
 "nbformat_minor": 2
}
